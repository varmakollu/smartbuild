{
 "cells": [
  {
   "cell_type": "markdown",
   "id": "32fc1c23-eff3-4dfb-9787-017e03457e18",
   "metadata": {},
   "source": [
    "# Smart Building Energy Optimization Project\n",
    "\n",
    "## Project Overview\n",
    "\n",
    "Building energy optimization through machine learning represents a crucial step toward sustainable building management. A smart building energy optimization project combines:\n",
    "- IoT sensors\n",
    "- Historical data\n",
    "- Advanced algorithms\n",
    "\n",
    "These elements work together to predict and reduce energy consumption while maintaining occupant comfort.\n",
    "\n",
    "## Dataset Selection and Preparation\n",
    "\n",
    "### Recommended Kaggle Datasets\n",
    "\n",
    "The most suitable datasets for this project include:\n",
    "\n",
    "#### Energy Efficiency Dataset (UCI)\n",
    "- **Size**: 768 building samples\n",
    "- **Features**: 8 attributes including:\n",
    "  - Relative compactness\n",
    "  - Surface area\n",
    "  - Wall area\n",
    "  - Roof area\n",
    "  - Overall height\n",
    "  - Orientation\n",
    "  - Glazing area\n",
    "  - Glazing area distribution\n",
    "- **Target Variables**: Heating and cooling loads\n",
    "\n",
    "#### Appliances Energy Prediction Dataset\n",
    "- **Size**: 19,735 instances\n",
    "- **Features**: 28 attributes including temperature, humidity, and weather data\n",
    "- **Source**: Low-energy building\n",
    "- **Time Resolution**: 10-minute intervals\n",
    "- **Duration**: 4.5 months of data\n",
    "\n",
    "#### Smart Building System Dataset\n",
    "- **Coverage**: 255 sensor time series\n",
    "- **Scope**: 51 rooms across 4 floors\n",
    "- **Type**: Comprehensive IoT sensor data for building energy analysis"
   ]
  },
  {
   "cell_type": "code",
   "execution_count": null,
   "id": "4a7b8d08-234c-4b9e-8f0a-641cc3190700",
   "metadata": {},
   "outputs": [],
   "source": [
    "## 2. Import Libraries\n",
    "import pandas as pd\n",
    "import numpy as np\n",
    "import matplotlib.pyplot as plt\n",
    "import seaborn as sns\n",
    "from sklearn.model_selection import train_test_split\n",
    "from sklearn.ensemble import RandomForestRegressor\n",
    "from sklearn.metrics import mean_squared_error, r2_score\n",
    "from sklearn.preprocessing import StandardScaler"
   ]
  },
  {
   "cell_type": "code",
   "execution_count": null,
   "id": "9dfab9dc-ec07-4792-9d70-f847d9688aae",
   "metadata": {},
   "outputs": [],
   "source": [
    "## 3. Load Dataset\n",
    "\n",
    "# Download the UCI Energy Efficiency dataset from a URL or load it locally.\n",
    "\n",
    "url = 'http://archive.ics.uci.edu/ml/machine-learning-databases/00242/ENB2012_data.xlsx'\n",
    "df = pd.read_excel(url)\n",
    "df.head()"
   ]
  },
  {
   "cell_type": "code",
   "execution_count": null,
   "id": "4da411c0-90f9-4838-adca-70a3f5e9f62c",
   "metadata": {},
   "outputs": [],
   "source": [
    "## 4. Exploratory Data Analysis (EDA)\n",
    "\n",
    "# -   Check for missing values\n",
    "# -   Describe dataset statistics\n",
    "# -   Visualize feature distributions and correlations\n",
    "\n",
    "print(df.info())\n",
    "print(df.describe())\n",
    "sns.pairplot(df.iloc[:, :-2])  # Pairwise plot for features\n",
    "plt.show()\n",
    "\n",
    "corr = df.corr()\n",
    "plt.figure(figsize=(10,8))\n",
    "sns.heatmap(corr, annot=True, cmap='coolwarm')\n",
    "plt.show()"
   ]
  },
  {
   "cell_type": "code",
   "execution_count": null,
   "id": "7c5b150d-73f8-49b6-92ae-700400917e6e",
   "metadata": {},
   "outputs": [],
   "source": [
    "## 5. Data Preprocessing\n",
    "\n",
    "# -   Define features (`X`) and targets (`y`) - typically heating load or cooling load.\n",
    "# -   Split the dataset into train and test subsets.\n",
    "# -   Scale features for better performance.\n",
    "\n",
    "# Use all input features except last two columns which are targets\n",
    "X = df.iloc[:, :-2]\n",
    "y = df['Y1']  # Heating Load (can also try 'Y2' for Cooling Load)\n",
    "\n",
    "# Split\n",
    "X_train, X_test, y_train, y_test = train_test_split(X, y, test_size=0.2, random_state=42)\n",
    "\n",
    "# Scaling\n",
    "scaler = StandardScaler()\n",
    "X_train_scaled = scaler.fit_transform(X_train)\n",
    "X_test_scaled = scaler.transform(X_test)"
   ]
  },
  {
   "cell_type": "code",
   "execution_count": null,
   "id": "b9a69a3c-4c73-4a5d-bd3a-b0c37542a90b",
   "metadata": {},
   "outputs": [],
   "source": [
    "## 6. Model Training\n",
    "\n",
    "# -   Initialize and train a Random Forest Regressor\n",
    "\n",
    "rf = RandomForestRegressor(n_estimators=100, random_state=42)\n",
    "rf.fit(X_train_scaled, y_train)"
   ]
  },
  {
   "cell_type": "code",
   "execution_count": null,
   "id": "eec6098e-0585-4aac-8545-da2be510d909",
   "metadata": {},
   "outputs": [],
   "source": [
    "## 7. Model Evaluation\n",
    "\n",
    "# -   Predict on test set\n",
    "# -   Calculate and display RMSE and R² score\n",
    "# -   Plot predicted vs actual values\n",
    "\n",
    "y_pred = rf.predict(X_test_scaled)\n",
    "rmse = np.sqrt(mean_squared_error(y_test, y_pred))\n",
    "r2 = r2_score(y_test, y_pred)\n",
    "\n",
    "print(f\"Test RMSE: {rmse:.2f}\")\n",
    "print(f\"Test R² Score: {r2:.2f}\")\n",
    "\n",
    "plt.scatter(y_test, y_pred)\n",
    "plt.xlabel('Actual Heating Load')\n",
    "plt.ylabel('Predicted Heating Load')\n",
    "plt.title('Predicted vs Actual Heating Load')\n",
    "plt.show()"
   ]
  },
  {
   "cell_type": "code",
   "execution_count": null,
   "id": "4663e4d5-a0e6-4015-93fa-9de7c23f556f",
   "metadata": {},
   "outputs": [],
   "source": [
    "## 8. Feature Importance\n",
    "\n",
    "# -   Visualize which features contribute most to the model predictions\n",
    "\n",
    "feat_importances = pd.Series(rf.feature_importances_, index=X.columns)\n",
    "feat_importances.nlargest(10).plot(kind='barh')\n",
    "plt.xlabel('Feature Importance')\n",
    "plt.title('Top Features')\n",
    "plt.show()"
   ]
  },
  {
   "cell_type": "code",
   "execution_count": null,
   "id": "d45a759f-b81d-4b29-b5cd-86ef3cdb4818",
   "metadata": {},
   "outputs": [],
   "source": [
    "## 9. Save Model (Optional)\n",
    "\n",
    "import joblib\n",
    "joblib.dump(rf, 'rf_energy_model.pkl')\n",
    "joblib.dump(scaler, 'scaler.pkl')"
   ]
  }
 ],
 "metadata": {
  "kernelspec": {
   "display_name": "Python [conda env:base] *",
   "language": "python",
   "name": "conda-base-py"
  },
  "language_info": {
   "codemirror_mode": {
    "name": "ipython",
    "version": 3
   },
   "file_extension": ".py",
   "mimetype": "text/x-python",
   "name": "python",
   "nbconvert_exporter": "python",
   "pygments_lexer": "ipython3",
   "version": "3.13.5"
  }
 },
 "nbformat": 4,
 "nbformat_minor": 5
}
